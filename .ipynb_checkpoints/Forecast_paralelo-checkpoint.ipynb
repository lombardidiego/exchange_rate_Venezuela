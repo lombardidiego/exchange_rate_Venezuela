{
 "cells": [
  {
   "cell_type": "code",
   "execution_count": 1,
   "metadata": {},
   "outputs": [],
   "source": [
    "import pandas as pd\n",
    "import numpy as np\n",
    "\n",
    "import matplotlib.pyplot as plt\n",
    "import plotly.offline as pyo\n",
    "import plotly.graph_objs as go\n",
    "import plotly.figure_factory as ff\n",
    "from plotly.subplots import make_subplots\n",
    "\n",
    "import dash\n",
    "import dash_core_components as dcc\n",
    "import dash_html_components as html\n",
    "\n",
    "pd.set_option('float_format', '{:,.2f}'.format)"
   ]
  },
  {
   "cell_type": "code",
   "execution_count": 2,
   "metadata": {},
   "outputs": [],
   "source": [
    "from sklearn.metrics import mean_squared_error\n",
    "from math import sqrt\n",
    "from statsmodels.tsa.api import ExponentialSmoothing, SimpleExpSmoothing, Holt\n",
    "import statsmodels.api as sm"
   ]
  },
  {
   "cell_type": "code",
   "execution_count": 3,
   "metadata": {},
   "outputs": [],
   "source": [
    "df = pd.read_excel('Dolar_Today.xlsx')"
   ]
  },
  {
   "cell_type": "code",
   "execution_count": 4,
   "metadata": {},
   "outputs": [],
   "source": [
    "df['Fecha'] = pd.to_datetime(df['Fecha'])\n",
    "\n",
    "df.set_index('Fecha', inplace=True)"
   ]
  },
  {
   "cell_type": "code",
   "execution_count": null,
   "metadata": {},
   "outputs": [],
   "source": []
  },
  {
   "cell_type": "code",
   "execution_count": 5,
   "metadata": {},
   "outputs": [],
   "source": [
    "#### Forecaste ####"
   ]
  },
  {
   "cell_type": "code",
   "execution_count": 6,
   "metadata": {},
   "outputs": [
    {
     "name": "stdout",
     "output_type": "stream",
     "text": [
      "<class 'pandas.core.frame.DataFrame'>\n",
      "DatetimeIndex: 3225 entries, 2010-06-23 to 2019-10-04\n",
      "Data columns (total 1 columns):\n",
      "DolarToday    3225 non-null float64\n",
      "dtypes: float64(1)\n",
      "memory usage: 50.4 KB\n"
     ]
    }
   ],
   "source": [
    "df_forecast = df\n",
    "\n",
    "df_forecast.info()"
   ]
  },
  {
   "cell_type": "code",
   "execution_count": 7,
   "metadata": {},
   "outputs": [],
   "source": [
    "#### FORECASTING ####"
   ]
  },
  {
   "cell_type": "code",
   "execution_count": 8,
   "metadata": {},
   "outputs": [
    {
     "data": {
      "text/plain": [
       "Index(['DolarToday'], dtype='object')"
      ]
     },
     "execution_count": 8,
     "metadata": {},
     "output_type": "execute_result"
    }
   ],
   "source": [
    "Start_Date_train = \"2019-6\"\n",
    "End_Date_train = \"2019-8\"\n",
    "\n",
    "df_forecast_train = df_forecast[Start_Date_train:End_Date_train]\n",
    "\n",
    "df_forecast.columns"
   ]
  },
  {
   "cell_type": "code",
   "execution_count": 9,
   "metadata": {},
   "outputs": [],
   "source": [
    "Start_Date_test = \"2019-8\"\n",
    "End_Date_test = \"2019-12\"\n",
    "\n",
    "df_forecast_test = df_forecast[Start_Date_test:End_Date_test]"
   ]
  },
  {
   "cell_type": "code",
   "execution_count": 10,
   "metadata": {},
   "outputs": [],
   "source": [
    "train_varible = df_forecast_train['DolarToday']\n",
    "train_index = df_forecast_train.index\n",
    "train_df = df_forecast_train\n",
    "\n",
    "test_variable = df_forecast_test['DolarToday']\n",
    "test_index = df_forecast_test.index\n",
    "test_df = df_forecast_test"
   ]
  },
  {
   "cell_type": "code",
   "execution_count": 11,
   "metadata": {},
   "outputs": [
    {
     "data": {
      "text/plain": [
       "'temp-plot.html'"
      ]
     },
     "execution_count": 11,
     "metadata": {},
     "output_type": "execute_result"
    }
   ],
   "source": [
    "trace1 = go.Scatter(x=train_index,\n",
    "                    y=train_varible,\n",
    "                  mode='lines',\n",
    "                  name='Train')\n",
    "\n",
    "trace2 = go.Scatter(x=test_index,\n",
    "                    y=test_variable,\n",
    "                  mode='lines',\n",
    "                  name='Test')\n",
    "\n",
    "data = [trace1, trace2]\n",
    "\n",
    "layout = go.Layout(title=\"Train / Test - Search term\")\n",
    "\n",
    "fig = go.Figure(data=data, layout=layout)\n",
    "pyo.plot(fig)"
   ]
  },
  {
   "cell_type": "code",
   "execution_count": 12,
   "metadata": {},
   "outputs": [
    {
     "data": {
      "text/plain": [
       "'temp-plot.html'"
      ]
     },
     "execution_count": 12,
     "metadata": {},
     "output_type": "execute_result"
    }
   ],
   "source": [
    "### Naive approach ###\n",
    "\n",
    "dd= np.asarray(train_varible)\n",
    "\n",
    "y_hat = test_df.copy()\n",
    "\n",
    "y_hat['naive'] = dd[len(dd)-1]\n",
    "\n",
    "trace1 = go.Scatter(x=train_index,\n",
    "                    y=train_varible,\n",
    "                  mode='lines',\n",
    "                  name='Train')\n",
    "\n",
    "trace2 = go.Scatter(x=test_index,\n",
    "                    y=test_variable,\n",
    "                  mode='lines',\n",
    "                  name='Test')\n",
    "\n",
    "trace3 = go.Scatter(x=y_hat.index,\n",
    "                    y=y_hat['naive'],\n",
    "                  mode='lines',\n",
    "                  name='Naive Forecast')\n",
    "\n",
    "\n",
    "\n",
    "\n",
    "data = [trace1, trace2, trace3]\n",
    "\n",
    "layout = go.Layout(title=\"Train / Test - Search term\")\n",
    "\n",
    "fig = go.Figure(data=data, layout=layout)\n",
    "pyo.plot(fig)"
   ]
  },
  {
   "cell_type": "code",
   "execution_count": 13,
   "metadata": {},
   "outputs": [
    {
     "name": "stdout",
     "output_type": "stream",
     "text": [
      "RMSE Naive = 811752129.2271239\n"
     ]
    }
   ],
   "source": [
    "rms_naive = sqrt(mean_squared_error(test_variable, y_hat.naive))\n",
    "\n",
    "print('RMSE Naive = {}'.format(rms_naive))"
   ]
  },
  {
   "cell_type": "code",
   "execution_count": null,
   "metadata": {},
   "outputs": [],
   "source": []
  },
  {
   "cell_type": "code",
   "execution_count": 14,
   "metadata": {},
   "outputs": [
    {
     "data": {
      "text/plain": [
       "'temp-plot.html'"
      ]
     },
     "execution_count": 14,
     "metadata": {},
     "output_type": "execute_result"
    }
   ],
   "source": [
    "### Simple Average ###\n",
    "\n",
    "y_hat_avg = test_df.copy()\n",
    "\n",
    "y_hat_avg['avg_forecast'] = train_varible.mean()\n",
    "\n",
    "trace1 = go.Scatter(x=train_index,\n",
    "                    y=train_varible,\n",
    "                  mode='lines',\n",
    "                  name='Train')\n",
    "\n",
    "trace2 = go.Scatter(x=test_index,\n",
    "                    y=test_variable,\n",
    "                  mode='lines',\n",
    "                  name='Test')\n",
    "\n",
    "trace3 = go.Scatter(x=y_hat.index,\n",
    "                    y=y_hat_avg['avg_forecast'],\n",
    "                  mode='lines',\n",
    "                  name='Simple Average')\n",
    "\n",
    "data = [trace1, trace2, trace3]\n",
    "\n",
    "layout = go.Layout(title=\"Train / Test - Search term\")\n",
    "\n",
    "fig = go.Figure(data=data, layout=layout)\n",
    "pyo.plot(fig)"
   ]
  },
  {
   "cell_type": "code",
   "execution_count": 15,
   "metadata": {},
   "outputs": [
    {
     "name": "stdout",
     "output_type": "stream",
     "text": [
      "RMSE Simple Average = 891969782.0112258\n"
     ]
    }
   ],
   "source": [
    "rms_simple_av = sqrt(mean_squared_error(test_variable, y_hat_avg.avg_forecast))\n",
    "\n",
    "print('RMSE Simple Average = {}'.format(rms_simple_av))"
   ]
  },
  {
   "cell_type": "code",
   "execution_count": null,
   "metadata": {},
   "outputs": [],
   "source": []
  },
  {
   "cell_type": "code",
   "execution_count": 16,
   "metadata": {},
   "outputs": [
    {
     "data": {
      "text/plain": [
       "'temp-plot.html'"
      ]
     },
     "execution_count": 16,
     "metadata": {},
     "output_type": "execute_result"
    }
   ],
   "source": [
    "### Moving Average ###\n",
    "\n",
    "y_hat_avg = test_df.copy()\n",
    "\n",
    "y_hat_avg['moving_avg_forecast'] = train_varible.rolling(24).mean().iloc[-1]\n",
    "\n",
    "trace1 = go.Scatter(x=train_index,\n",
    "                    y=train_varible,\n",
    "                  mode='lines',\n",
    "                  name='Train')\n",
    "\n",
    "trace2 = go.Scatter(x=test_index,\n",
    "                    y=test_variable,\n",
    "                  mode='lines',\n",
    "                  name='Test')\n",
    "\n",
    "trace3 = go.Scatter(x=y_hat.index,\n",
    "                    y=y_hat_avg['moving_avg_forecast'],\n",
    "                  mode='lines',\n",
    "                  name='Moving Average')\n",
    "\n",
    "data = [trace1, trace2, trace3]\n",
    "\n",
    "layout = go.Layout(title=\"Train / Test - Search term\")\n",
    "\n",
    "fig = go.Figure(data=data, layout=layout)\n",
    "pyo.plot(fig)"
   ]
  },
  {
   "cell_type": "code",
   "execution_count": 17,
   "metadata": {},
   "outputs": [
    {
     "name": "stdout",
     "output_type": "stream",
     "text": [
      "RMSE Moving Average = 447867953.6282636\n"
     ]
    }
   ],
   "source": [
    "rms_moving_av = sqrt(mean_squared_error(test_variable, y_hat_avg.moving_avg_forecast))\n",
    "\n",
    "print('RMSE Moving Average = {}'.format(rms_moving_av))"
   ]
  },
  {
   "cell_type": "code",
   "execution_count": null,
   "metadata": {},
   "outputs": [],
   "source": []
  },
  {
   "cell_type": "code",
   "execution_count": 18,
   "metadata": {},
   "outputs": [
    {
     "data": {
      "text/plain": [
       "'temp-plot.html'"
      ]
     },
     "execution_count": 18,
     "metadata": {},
     "output_type": "execute_result"
    }
   ],
   "source": [
    "### Simple Exponential Smoothing ###\n",
    "\n",
    "y_hat_avg = test_df.copy()\n",
    "\n",
    "fit2 = SimpleExpSmoothing(np.asarray(train_varible)).fit(smoothing_level=0.6,optimized=False)\n",
    "\n",
    "y_hat_avg['SES'] = fit2.forecast(len(df_forecast_test))\n",
    "\n",
    "trace1 = go.Scatter(x=train_index,\n",
    "                    y=train_varible,\n",
    "                  mode='lines',\n",
    "                  name='Train')\n",
    "\n",
    "trace2 = go.Scatter(x=test_index,\n",
    "                    y=test_variable,\n",
    "                  mode='lines',\n",
    "                  name='Test')\n",
    "\n",
    "trace3 = go.Scatter(x=y_hat.index,\n",
    "                    y=y_hat_avg['SES'],\n",
    "                  mode='lines',\n",
    "                  name='SES')\n",
    "\n",
    "data = [trace1, trace2, trace3]\n",
    "\n",
    "layout = go.Layout(title=\"Train / Test - Search term\")\n",
    "\n",
    "fig = go.Figure(data=data, layout=layout)\n",
    "pyo.plot(fig)"
   ]
  },
  {
   "cell_type": "code",
   "execution_count": 19,
   "metadata": {},
   "outputs": [
    {
     "name": "stdout",
     "output_type": "stream",
     "text": [
      "RMSE SES = 753498717.3310168\n"
     ]
    }
   ],
   "source": [
    "rms_ses = sqrt(mean_squared_error(test_variable, y_hat_avg.SES))\n",
    "\n",
    "print('RMSE SES = {}'.format(rms_ses))"
   ]
  },
  {
   "cell_type": "code",
   "execution_count": null,
   "metadata": {},
   "outputs": [],
   "source": []
  },
  {
   "cell_type": "code",
   "execution_count": 20,
   "metadata": {},
   "outputs": [
    {
     "data": {
      "image/png": "[encoded data removed]",
      "text/plain": [
       "<Figure size 432x288 with 4 Axes>"
      ]
     },
     "metadata": {
      "needs_background": "light"
     },
     "output_type": "display_data"
    }
   ],
   "source": [
    "### Holt’s Linear Trend method ###\n",
    "\n",
    "sm.tsa.seasonal_decompose(train_varible, freq=30).plot()\n",
    "result = sm.tsa.stattools.adfuller(train_varible)\n",
    "plt.show()"
   ]
  },
  {
   "cell_type": "code",
   "execution_count": 21,
   "metadata": {},
   "outputs": [
    {
     "data": {
      "text/plain": [
       "'temp-plot.html'"
      ]
     },
     "execution_count": 21,
     "metadata": {},
     "output_type": "execute_result"
    }
   ],
   "source": [
    "y_hat_avg = test_df.copy()\n",
    "\n",
    "fit1 = Holt(np.asarray(train_varible)).fit(smoothing_level = 0.3,smoothing_slope = 0.1)\n",
    "\n",
    "y_hat_avg['Holt_linear'] = fit1.forecast(len(test_df))\n",
    "\n",
    "trace1 = go.Scatter(x=train_index,\n",
    "                    y=train_varible,\n",
    "                  mode='lines',\n",
    "                  name='Train')\n",
    "\n",
    "trace2 = go.Scatter(x=test_index,\n",
    "                    y=test_variable,\n",
    "                  mode='lines',\n",
    "                  name='Test')\n",
    "\n",
    "trace3 = go.Scatter(x=y_hat.index,\n",
    "                    y=y_hat_avg['Holt_linear'],\n",
    "                  mode='lines',\n",
    "                  name='Holt_linear')\n",
    "\n",
    "data = [trace1, trace2, trace3]\n",
    "\n",
    "layout = go.Layout(title=\"Train / Test - Search term\")\n",
    "\n",
    "fig = go.Figure(data=data, layout=layout)\n",
    "pyo.plot(fig)"
   ]
  },
  {
   "cell_type": "code",
   "execution_count": 22,
   "metadata": {},
   "outputs": [
    {
     "name": "stdout",
     "output_type": "stream",
     "text": [
      "RMSE Holt Linear = 3054320336.0584116\n"
     ]
    }
   ],
   "source": [
    "rms_holt_linear = sqrt(mean_squared_error(test_variable, y_hat_avg.Holt_linear))\n",
    "\n",
    "print('RMSE Holt Linear = {}'.format(rms_holt_linear))"
   ]
  },
  {
   "cell_type": "code",
   "execution_count": null,
   "metadata": {},
   "outputs": [],
   "source": []
  },
  {
   "cell_type": "code",
   "execution_count": 23,
   "metadata": {},
   "outputs": [
    {
     "data": {
      "text/plain": [
       "'temp-plot.html'"
      ]
     },
     "execution_count": 23,
     "metadata": {},
     "output_type": "execute_result"
    }
   ],
   "source": [
    "### Holt-Winters Method ###\n",
    "\n",
    "y_hat_avg = test_df.copy()\n",
    "\n",
    "fit1 = ExponentialSmoothing(np.asarray(train_varible) ,seasonal_periods=7 ,\n",
    "                            trend='add', seasonal='add',).fit()\n",
    "\n",
    "y_hat_avg['Holt_Winter'] = fit1.forecast(len(df_forecast_test))\n",
    "\n",
    "trace1 = go.Scatter(x=train_index,\n",
    "                    y=train_varible,\n",
    "                  mode='lines',\n",
    "                  name='Train')\n",
    "\n",
    "trace2 = go.Scatter(x=test_index,\n",
    "                    y=test_variable,\n",
    "                  mode='lines',\n",
    "                  name='Test')\n",
    "\n",
    "trace3 = go.Scatter(x=y_hat.index,\n",
    "                    y=y_hat_avg['Holt_Winter'],\n",
    "                  mode='lines',\n",
    "                  name='Holt-Winters')\n",
    "\n",
    "data = [trace1, trace2, trace3]\n",
    "\n",
    "layout = go.Layout(title=\"Train / Test - Search term\")\n",
    "\n",
    "fig = go.Figure(data=data, layout=layout)\n",
    "pyo.plot(fig)"
   ]
  },
  {
   "cell_type": "code",
   "execution_count": 24,
   "metadata": {},
   "outputs": [
    {
     "name": "stdout",
     "output_type": "stream",
     "text": [
      "RMSE Holt Winters = 6125612170.73195\n"
     ]
    }
   ],
   "source": [
    "rms_holt_winters = sqrt(mean_squared_error(test_variable, y_hat_avg.Holt_Winter))\n",
    "\n",
    "print('RMSE Holt Winters = {}'.format(rms_holt_winters))"
   ]
  },
  {
   "cell_type": "code",
   "execution_count": null,
   "metadata": {},
   "outputs": [],
   "source": []
  },
  {
   "cell_type": "markdown",
   "metadata": {},
   "source": [
    "### ARIMA ###\n",
    "\n",
    "y_hat_avg = test_df.copy()\n",
    "\n",
    "fit1 = sm.tsa.statespace.SARIMAX(train_varible, order=(1, 0, 0),seasonal_order=(1,1,2,6)).fit()\n",
    "\n",
    "y_hat_avg['SARIMA'] = fit1.predict(start=Start_Date_train, end=End_Date_train, dynamic=True, freq=7)\n",
    "\n",
    "trace1 = go.Scatter(x=train_index,\n",
    "                    y=train_varible,\n",
    "                  mode='lines',\n",
    "                  name='Train')\n",
    "\n",
    "trace2 = go.Scatter(x=test_index,\n",
    "                    y=test_variable,\n",
    "                  mode='lines',\n",
    "                  name='Test')\n",
    "\n",
    "trace3 = go.Scatter(x=y_hat.index,\n",
    "                    y=y_hat_avg['SARIMA'],\n",
    "                  mode='lines',\n",
    "                  name='SARIMA')\n",
    "\n",
    "data = [trace1, trace2, trace3]\n",
    "\n",
    "layout = go.Layout(title=\"Train / Test - Search term\")\n",
    "\n",
    "fig = go.Figure(data=data, layout=layout)\n",
    "pyo.plot(fig)"
   ]
  },
  {
   "cell_type": "markdown",
   "metadata": {},
   "source": [
    "rms_arima = sqrt(mean_squared_error(test_variable, y_hat_avg.SARIMA))\n",
    "\n",
    "print('RMSE ARIMA = {}'.format(rms_arima))"
   ]
  },
  {
   "cell_type": "code",
   "execution_count": 25,
   "metadata": {},
   "outputs": [
    {
     "name": "stdout",
     "output_type": "stream",
     "text": [
      "RMSE Naive = 811752129.2271239\n",
      "RMSE Simple Average = 891969782.0112258\n",
      "RMSE Moving Average = 447867953.6282636\n",
      "RMSE SES = 753498717.3310168\n",
      "RMSE Holt Linear = 3054320336.0584116\n",
      "RMSE Holt Winters = 6125612170.73195\n"
     ]
    }
   ],
   "source": [
    "print('RMSE Naive = {}'.format(rms_naive))\n",
    "\n",
    "print('RMSE Simple Average = {}'.format(rms_simple_av))\n",
    "\n",
    "print('RMSE Moving Average = {}'.format(rms_moving_av))\n",
    "\n",
    "print('RMSE SES = {}'.format(rms_ses))\n",
    "\n",
    "print('RMSE Holt Linear = {}'.format(rms_holt_linear))\n",
    "\n",
    "print('RMSE Holt Winters = {}'.format(rms_holt_winters))\n",
    "\n",
    "#print('RMSE ARIMA = {}'.format(rms_arima))"
   ]
  },
  {
   "cell_type": "code",
   "execution_count": null,
   "metadata": {},
   "outputs": [],
   "source": []
  },
  {
   "cell_type": "code",
   "execution_count": 26,
   "metadata": {},
   "outputs": [],
   "source": [
    "#### Moving Averages - Manual ####"
   ]
  },
  {
   "cell_type": "code",
   "execution_count": 27,
   "metadata": {},
   "outputs": [
    {
     "data": {
      "text/html": [
       "<div>\n",
       "<style scoped>\n",
       "    .dataframe tbody tr th:only-of-type {\n",
       "        vertical-align: middle;\n",
       "    }\n",
       "\n",
       "    .dataframe tbody tr th {\n",
       "        vertical-align: top;\n",
       "    }\n",
       "\n",
       "    .dataframe thead th {\n",
       "        text-align: right;\n",
       "    }\n",
       "</style>\n",
       "<table border=\"1\" class=\"dataframe\">\n",
       "  <thead>\n",
       "    <tr style=\"text-align: right;\">\n",
       "      <th></th>\n",
       "      <th>DolarToday</th>\n",
       "    </tr>\n",
       "    <tr>\n",
       "      <th>Fecha</th>\n",
       "      <th></th>\n",
       "    </tr>\n",
       "  </thead>\n",
       "  <tbody>\n",
       "    <tr>\n",
       "      <th>2019-01-01</th>\n",
       "      <td>73,029,000.00</td>\n",
       "    </tr>\n",
       "    <tr>\n",
       "      <th>2019-01-02</th>\n",
       "      <td>78,128,000.00</td>\n",
       "    </tr>\n",
       "    <tr>\n",
       "      <th>2019-01-03</th>\n",
       "      <td>81,096,000.00</td>\n",
       "    </tr>\n",
       "    <tr>\n",
       "      <th>2019-01-04</th>\n",
       "      <td>84,124,000.00</td>\n",
       "    </tr>\n",
       "    <tr>\n",
       "      <th>2019-01-05</th>\n",
       "      <td>84,124,000.00</td>\n",
       "    </tr>\n",
       "  </tbody>\n",
       "</table>\n",
       "</div>"
      ],
      "text/plain": [
       "              DolarToday\n",
       "Fecha                   \n",
       "2019-01-01 73,029,000.00\n",
       "2019-01-02 78,128,000.00\n",
       "2019-01-03 81,096,000.00\n",
       "2019-01-04 84,124,000.00\n",
       "2019-01-05 84,124,000.00"
      ]
     },
     "execution_count": 27,
     "metadata": {},
     "output_type": "execute_result"
    }
   ],
   "source": [
    "Start_Date_ave = \"2019-1\"\n",
    "End_Date_ave = \"2019-12\"\n",
    "\n",
    "df_ave = df[Start_Date_ave:End_Date_ave]\n",
    "\n",
    "df_ave.head()"
   ]
  },
  {
   "cell_type": "code",
   "execution_count": 42,
   "metadata": {},
   "outputs": [
    {
     "data": {
      "text/plain": [
       "'temp-plot.html'"
      ]
     },
     "execution_count": 42,
     "metadata": {},
     "output_type": "execute_result"
    }
   ],
   "source": [
    "rolling_mean = df_ave['DolarToday'].rolling(window=20).mean()\n",
    "rolling_mean2 = df_ave['DolarToday'].rolling(window=50).mean()\n",
    "\n",
    "\n",
    "trace1 = go.Scatter(x=df_ave.index,\n",
    "                    y=df_ave['DolarToday'],\n",
    "                  mode='lines',\n",
    "                  name='Dolar Today')\n",
    "\n",
    "trace2 = go.Scatter(x=df_ave.index,\n",
    "                    y=rolling_mean,\n",
    "                  mode='lines',\n",
    "                  name='20 SMA')\n",
    "\n",
    "trace3 = go.Scatter(x=df_ave.index,\n",
    "                    y=rolling_mean2,\n",
    "                  mode='lines',\n",
    "                  name='90 SMA')\n",
    "\n",
    "\n",
    "data = [trace1, trace2,trace3]\n",
    "\n",
    "layout = go.Layout(title=\"Basic Moving Average\")\n",
    "\n",
    "fig = go.Figure(data=data, layout=layout)\n",
    "pyo.plot(fig)"
   ]
  },
  {
   "cell_type": "code",
   "execution_count": 45,
   "metadata": {},
   "outputs": [
    {
     "data": {
      "text/plain": [
       "'temp-plot.html'"
      ]
     },
     "execution_count": 45,
     "metadata": {},
     "output_type": "execute_result"
    }
   ],
   "source": [
    "span1 = 20\n",
    "span2 = 50\n",
    "\n",
    "exp1 = df_ave['DolarToday'].ewm(span=span1, adjust=False).mean()\n",
    "exp2 = df_ave['DolarToday'].ewm(span=span2, adjust=False).mean()\n",
    "\n",
    "trace1 = go.Scatter(x=df_ave.index,\n",
    "                    y=df_ave['DolarToday'],\n",
    "                  mode='lines',\n",
    "                  name='Dolar Today')\n",
    "\n",
    "trace2 = go.Scatter(x=df_ave.index,\n",
    "                    y=exp1,\n",
    "                  mode='lines',\n",
    "                  name='Exp {}'.format(span1))\n",
    "\n",
    "trace3 = go.Scatter(x=df_ave.index,\n",
    "                    y=exp2,\n",
    "                  mode='lines',\n",
    "                  name='Exp {}'.format(span2))\n",
    "\n",
    "\n",
    "data = [trace1, trace2,trace3]\n",
    "\n",
    "layout = go.Layout(title=\"EMA\")\n",
    "\n",
    "fig = go.Figure(data=data, layout=layout)\n",
    "pyo.plot(fig)\n",
    "\n"
   ]
  },
  {
   "cell_type": "code",
   "execution_count": 30,
   "metadata": {},
   "outputs": [],
   "source": [
    "df_ave['exe1'] = df_ave['DolarToday'].ewm(span=span1, adjust=False).mean()\n",
    "\n",
    "df_ave['dif_exe1'] = df_ave['DolarToday'] - df_ave['exe1']"
   ]
  },
  {
   "cell_type": "code",
   "execution_count": 46,
   "metadata": {},
   "outputs": [
    {
     "data": {
      "text/plain": [
       "'temp-plot.html'"
      ]
     },
     "execution_count": 46,
     "metadata": {},
     "output_type": "execute_result"
    }
   ],
   "source": [
    "trace1 = go.Scatter(x=df_ave.index,\n",
    "                    y=df_ave['DolarToday'],\n",
    "                    mode='lines',\n",
    "                    name='Dolar Today',\n",
    "                    marker = {'color':'rgb(16, 173, 58)'})\n",
    "                                  \n",
    "\n",
    "trace2 = go.Scatter(x=df_ave.index,\n",
    "                    y=exp1,\n",
    "                  mode='lines',\n",
    "                  name='Exp {}'.format(span1),\n",
    "                  marker = {'color':'rgb(49,55,254)'},\n",
    "                  fill='tonexty')\n",
    "\n",
    "data = [trace1, trace2]\n",
    "\n",
    "layout = go.Layout(title=\"Diferencia\")\n",
    "\n",
    "fig = go.Figure(data=data, layout=layout)\n",
    "pyo.plot(fig)\n",
    "\n"
   ]
  },
  {
   "cell_type": "code",
   "execution_count": 47,
   "metadata": {},
   "outputs": [
    {
     "data": {
      "text/plain": [
       "'temp-plot.html'"
      ]
     },
     "execution_count": 47,
     "metadata": {},
     "output_type": "execute_result"
    }
   ],
   "source": [
    "trace1 = go.Bar(x=df_ave.index,\n",
    "                y=df_ave['dif_exe1'],\n",
    "                  name='Diferencia',\n",
    "                  marker = {'color':'rgb(49,55,254)'})\n",
    "\n",
    "data = [trace1]\n",
    "\n",
    "layout = go.Layout(title=\"Diferencia valor observado versus valor media móvil\")\n",
    "\n",
    "fig = go.Figure(data=data, layout=layout)\n",
    "pyo.plot(fig)\n",
    "\n"
   ]
  },
  {
   "cell_type": "code",
   "execution_count": 48,
   "metadata": {},
   "outputs": [],
   "source": [
    "span = 50"
   ]
  },
  {
   "cell_type": "code",
   "execution_count": 49,
   "metadata": {},
   "outputs": [],
   "source": [
    "EMA = df_ave['DolarToday'].ewm(span=span, adjust=False).mean()"
   ]
  },
  {
   "cell_type": "code",
   "execution_count": 50,
   "metadata": {},
   "outputs": [],
   "source": [
    "ema1 = EMA.ewm(span=span, adjust=False).mean()\n",
    "\n",
    "ema2 = ema1.ewm(span=span, adjust=False).mean()\n",
    "\n",
    "DEMA = (ema1 * 2) - ema2"
   ]
  },
  {
   "cell_type": "code",
   "execution_count": 51,
   "metadata": {},
   "outputs": [],
   "source": [
    "ema2 = EMA.ewm(span=span, adjust=False).mean()\n",
    "\n",
    "TEMA = ema2.ewm(span=span, adjust=False).mean()"
   ]
  },
  {
   "cell_type": "code",
   "execution_count": 52,
   "metadata": {},
   "outputs": [
    {
     "data": {
      "text/plain": [
       "'temp-plot.html'"
      ]
     },
     "execution_count": 52,
     "metadata": {},
     "output_type": "execute_result"
    }
   ],
   "source": [
    "trace1 = go.Scatter(x=df_ave.index,\n",
    "                    y=df_ave['DolarToday'],\n",
    "                  mode='lines',\n",
    "                  name='Dolar Today')\n",
    "\n",
    "trace2 = go.Scatter(x=df_ave.index,\n",
    "                    y=EMA,\n",
    "                  mode='lines',\n",
    "                  name='EMA span {}'.format(span))\n",
    "\n",
    "trace3 = go.Scatter(x=df_ave.index,\n",
    "                    y=DEMA,\n",
    "                  mode='lines',\n",
    "                  name='DEMA span {}'.format(span))\n",
    "\n",
    "trace4 = go.Scatter(x=df_ave.index,\n",
    "                    y=TEMA,\n",
    "                  mode='lines',\n",
    "                  name='TEMA')\n",
    "\n",
    "\n",
    "data = [trace1, trace2,trace3]\n",
    "\n",
    "layout = go.Layout(title=\"EMA / DEMA\")\n",
    "\n",
    "fig = go.Figure(data=data, layout=layout)\n",
    "pyo.plot(fig)\n",
    "\n"
   ]
  },
  {
   "cell_type": "code",
   "execution_count": 53,
   "metadata": {},
   "outputs": [],
   "source": [
    "dif_EMA_DEMA = EMA - DEMA"
   ]
  },
  {
   "cell_type": "code",
   "execution_count": 54,
   "metadata": {},
   "outputs": [
    {
     "data": {
      "text/plain": [
       "'temp-plot.html'"
      ]
     },
     "execution_count": 54,
     "metadata": {},
     "output_type": "execute_result"
    }
   ],
   "source": [
    "trace1 = go.Bar(x=df_ave.index,\n",
    "                y=dif_EMA_DEMA,\n",
    "                  name='Diferencia',\n",
    "                  marker = {'color':'rgb(49,55,254)'})\n",
    "\n",
    "data = [trace1]\n",
    "\n",
    "layout = go.Layout(title=\"Diferencia entre EMA y DEMA - DolarToday / span = {} días\".format(span))\n",
    "\n",
    "fig = go.Figure(data=data, layout=layout)\n",
    "pyo.plot(fig)\n"
   ]
  },
  {
   "cell_type": "code",
   "execution_count": 55,
   "metadata": {},
   "outputs": [],
   "source": [
    "dif_DT_DEMA = df_ave['DolarToday'] - DEMA"
   ]
  },
  {
   "cell_type": "code",
   "execution_count": 56,
   "metadata": {},
   "outputs": [
    {
     "data": {
      "text/plain": [
       "'temp-plot.html'"
      ]
     },
     "execution_count": 56,
     "metadata": {},
     "output_type": "execute_result"
    }
   ],
   "source": [
    "trace1 = go.Bar(x=df_ave.index,\n",
    "                y=dif_DT_DEMA,\n",
    "                  name='Diferencia',\n",
    "                  marker = {'color':'rgb(49,55,254)'})\n",
    "\n",
    "data = [trace1]\n",
    "\n",
    "layout = go.Layout(title=\"Diferencia entre valor observado y DEMA - DolarToday / span = {} días\".format(span))\n",
    "\n",
    "fig = go.Figure(data=data, layout=layout)\n",
    "pyo.plot(fig)"
   ]
  },
  {
   "cell_type": "code",
   "execution_count": null,
   "metadata": {},
   "outputs": [],
   "source": []
  }
 ],
 "metadata": {
  "kernelspec": {
   "display_name": "Python 3",
   "language": "python",
   "name": "python3"
  },
  "language_info": {
   "codemirror_mode": {
    "name": "ipython",
    "version": 3
   },
   "file_extension": ".py",
   "mimetype": "text/x-python",
   "name": "python",
   "nbconvert_exporter": "python",
   "pygments_lexer": "ipython3",
   "version": "3.7.3"
  }
 },
 "nbformat": 4,
 "nbformat_minor": 2
}
