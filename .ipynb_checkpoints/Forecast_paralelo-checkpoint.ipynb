{
 "cells": [
  {
   "cell_type": "code",
   "execution_count": 1,
   "metadata": {},
   "outputs": [],
   "source": [
    "import pandas as pd\n",
    "import numpy as np\n",
    "import seaborn as sns\n",
    "\n",
    "%matplotlib inline\n",
    "import matplotlib.pyplot as plt\n",
    "import plotly.offline as pyo\n",
    "import plotly.graph_objs as go\n",
    "import plotly.figure_factory as ff\n",
    "from plotly.subplots import make_subplots\n",
    "\n",
    "import dash\n",
    "import dash_core_components as dcc\n",
    "import dash_html_components as html\n",
    "\n",
    "from sklearn import preprocessing\n",
    "\n",
    "from IPython.display import display, HTML\n",
    "\n",
    "pd.set_option('float_format', '{:,.2f}'.format)\n",
    "np.set_printoptions(precision=3)"
   ]
  },
  {
   "cell_type": "code",
   "execution_count": 2,
   "metadata": {},
   "outputs": [],
   "source": [
    "from sklearn.model_selection import train_test_split\n",
    "from sklearn.metrics import mean_squared_error\n",
    "from math import sqrt\n",
    "from statsmodels.tsa.api import ExponentialSmoothing, SimpleExpSmoothing, Holt\n",
    "import statsmodels.api as sm"
   ]
  },
  {
   "cell_type": "markdown",
   "metadata": {},
   "source": [
    "## Part 1: Download and preprocesses the data"
   ]
  },
  {
   "cell_type": "code",
   "execution_count": 3,
   "metadata": {},
   "outputs": [],
   "source": [
    "df = pd.read_excel('Dolar_Today.xlsx')"
   ]
  },
  {
   "cell_type": "code",
   "execution_count": 4,
   "metadata": {},
   "outputs": [],
   "source": [
    "df['Fecha'] = pd.to_datetime(df['Fecha'])\n",
    "\n",
    "df.set_index('Fecha', inplace=True)"
   ]
  },
  {
   "cell_type": "code",
   "execution_count": null,
   "metadata": {},
   "outputs": [],
   "source": []
  },
  {
   "cell_type": "markdown",
   "metadata": {},
   "source": [
    "#### Split the Data ####"
   ]
  },
  {
   "cell_type": "code",
   "execution_count": 5,
   "metadata": {},
   "outputs": [],
   "source": [
    "dff = df"
   ]
  },
  {
   "cell_type": "code",
   "execution_count": 6,
   "metadata": {},
   "outputs": [
    {
     "data": {
      "text/plain": [
       "(122, 1)"
      ]
     },
     "execution_count": 6,
     "metadata": {},
     "output_type": "execute_result"
    }
   ],
   "source": [
    "Start_Date_train = \"2019-6\"\n",
    "End_Date_train = \"2019-9\"\n",
    "\n",
    "dff_train = dff[Start_Date_train:End_Date_train]\n",
    "\n",
    "dff_train.shape"
   ]
  },
  {
   "cell_type": "code",
   "execution_count": 7,
   "metadata": {},
   "outputs": [
    {
     "data": {
      "text/plain": [
       "(40, 1)"
      ]
     },
     "execution_count": 7,
     "metadata": {},
     "output_type": "execute_result"
    }
   ],
   "source": [
    "Start_Date_test = \"2019-9\"\n",
    "End_Date_test = \"2019-12\"\n",
    "\n",
    "dff_test = dff[Start_Date_test:End_Date_test]\n",
    "\n",
    "dff_test.shape"
   ]
  },
  {
   "cell_type": "code",
   "execution_count": 8,
   "metadata": {},
   "outputs": [],
   "source": [
    "train_varible = dff_train['DolarToday']\n",
    "train_index = dff_train.index\n",
    "train_df = dff_train\n",
    "\n",
    "test_variable = dff_test['DolarToday']\n",
    "test_index = dff_test.index\n",
    "test_df = dff_test"
   ]
  },
  {
   "cell_type": "code",
   "execution_count": 9,
   "metadata": {},
   "outputs": [
    {
     "data": {
      "text/plain": [
       "'temp-plot.html'"
      ]
     },
     "execution_count": 9,
     "metadata": {},
     "output_type": "execute_result"
    }
   ],
   "source": [
    "trace1 = go.Scatter(x=train_index,\n",
    "                    y=train_varible,\n",
    "                  mode='lines',\n",
    "                  name='Train')\n",
    "\n",
    "trace2 = go.Scatter(x=test_index,\n",
    "                    y=test_variable,\n",
    "                  mode='lines',\n",
    "                  name='Test')\n",
    "\n",
    "data = [trace1, trace2]\n",
    "\n",
    "layout = go.Layout(title=\"Train / Test\")\n",
    "\n",
    "fig = go.Figure(data=data, layout=layout)\n",
    "pyo.plot(fig)"
   ]
  },
  {
   "cell_type": "code",
   "execution_count": null,
   "metadata": {},
   "outputs": [],
   "source": []
  },
  {
   "cell_type": "markdown",
   "metadata": {},
   "source": [
    "## Part 2: Data Analysis"
   ]
  },
  {
   "cell_type": "markdown",
   "metadata": {},
   "source": [
    "### Descriptive"
   ]
  },
  {
   "cell_type": "code",
   "execution_count": 10,
   "metadata": {},
   "outputs": [
    {
     "name": "stdout",
     "output_type": "stream",
     "text": [
      "Data Train mean: DolarToday   1,348,169,221.31\n",
      "dtype: float64.\n",
      "Data Test mean: DolarToday   2,135,384,225.00\n",
      "dtype: float64.\n"
     ]
    }
   ],
   "source": [
    "print ('Data Train mean: {}.'.format(dff_train.mean()))\n",
    "print ('Data Test mean: {}.'.format(dff_test.mean()))"
   ]
  },
  {
   "cell_type": "code",
   "execution_count": 11,
   "metadata": {},
   "outputs": [
    {
     "name": "stdout",
     "output_type": "stream",
     "text": [
      "Data Train: \n",
      "             DolarToday\n",
      "count           122.00\n",
      "mean  1,348,169,221.31\n",
      "std     611,337,217.79\n",
      "min     630,098,000.00\n",
      "25%     782,144,000.00\n",
      "50%   1,281,329,000.00\n",
      "75%   2,002,695,500.00\n",
      "max   2,601,282,000.00\n",
      "\n",
      "\n",
      "Data Test: \n",
      "             DolarToday\n",
      "count            40.00\n",
      "mean  2,135,384,225.00\n",
      "std     150,198,773.13\n",
      "min   1,986,106,000.00\n",
      "25%   2,036,143,000.00\n",
      "50%   2,107,572,000.00\n",
      "75%   2,168,266,750.00\n",
      "max   2,601,282,000.00\n"
     ]
    }
   ],
   "source": [
    "print ('Data Train: \\n {}'.format(dff_train.describe()))\n",
    "print ('\\n')\n",
    "print ('Data Test: \\n {}'.format(dff_test.describe()))"
   ]
  },
  {
   "cell_type": "code",
   "execution_count": 12,
   "metadata": {},
   "outputs": [
    {
     "data": {
      "image/png": "[encoded data removed]",
      "text/plain": [
       "<Figure size 1440x432 with 2 Axes>"
      ]
     },
     "metadata": {
      "needs_background": "light"
     },
     "output_type": "display_data"
    }
   ],
   "source": [
    "fig = plt.figure() # create figure\n",
    "\n",
    "ax0 = fig.add_subplot(1, 2, 1) # add subplot 1 (1 row, 2 columns, first plot)\n",
    "ax1 = fig.add_subplot(1, 2, 2) # add subplot 2 (1 row, 2 columns, second plot). See tip below**\n",
    "\n",
    "# Subplot 1: Box plot\n",
    "dff_train.plot(kind='box', color='blue', vert=True, figsize=(20, 6), ax=ax0) # add to subplot 1\n",
    "ax0.set_title('Test')\n",
    "ax0.set_ylabel('Bs / $')\n",
    "\n",
    "# Subplot 2: Line plot\n",
    "dff_test.plot(kind='box', color='blue', vert=True, figsize=(20, 6), ax=ax1) # add to subplot 1\n",
    "ax1.set_title('Train')\n",
    "ax1.set_ylabel('Bs / $')\n",
    "\n",
    "plt.show()"
   ]
  },
  {
   "cell_type": "code",
   "execution_count": null,
   "metadata": {},
   "outputs": [],
   "source": []
  },
  {
   "cell_type": "markdown",
   "metadata": {},
   "source": [
    "## Part 3: Modeling"
   ]
  },
  {
   "cell_type": "markdown",
   "metadata": {},
   "source": [
    "### Naive Approach"
   ]
  },
  {
   "cell_type": "code",
   "execution_count": 13,
   "metadata": {},
   "outputs": [
    {
     "name": "stdout",
     "output_type": "stream",
     "text": [
      "RMSE Naive = 148409994.57844812\n"
     ]
    }
   ],
   "source": [
    "dd= np.asarray(train_varible)\n",
    "\n",
    "y_hat = dff_test.copy()\n",
    "\n",
    "y_hat['naive'] = dd[len(dd)-1]\n",
    "\n",
    "rms_naive = sqrt(mean_squared_error(test_variable, y_hat.naive))\n",
    "\n",
    "print('RMSE Naive = {}'.format(rms_naive))"
   ]
  },
  {
   "cell_type": "code",
   "execution_count": 14,
   "metadata": {},
   "outputs": [
    {
     "data": {
      "text/plain": [
       "'temp-plot.html'"
      ]
     },
     "execution_count": 14,
     "metadata": {},
     "output_type": "execute_result"
    }
   ],
   "source": [
    "trace1 = go.Scatter(x=train_index,\n",
    "                    y=train_varible,\n",
    "                  mode='lines',\n",
    "                  name='Train')\n",
    "\n",
    "trace2 = go.Scatter(x=test_index,\n",
    "                    y=test_variable,\n",
    "                  mode='lines',\n",
    "                  name='Test')\n",
    "\n",
    "trace3 = go.Scatter(x=y_hat.index,\n",
    "                    y=y_hat['naive'],\n",
    "                  mode='lines',\n",
    "                  name='Naive Forecast')\n",
    "\n",
    "\n",
    "data = [trace1, trace2, trace3]\n",
    "\n",
    "layout = go.Layout(title=\"Train / Test - Naive approach\")\n",
    "\n",
    "fig = go.Figure(data=data, layout=layout)\n",
    "pyo.plot(fig)"
   ]
  },
  {
   "cell_type": "markdown",
   "metadata": {},
   "source": [
    "### Simple Average"
   ]
  },
  {
   "cell_type": "code",
   "execution_count": 15,
   "metadata": {},
   "outputs": [
    {
     "name": "stdout",
     "output_type": "stream",
     "text": [
      "RMSE Simple Average = 801063756.3238634\n"
     ]
    }
   ],
   "source": [
    "y_hat_avg = dff_test.copy()\n",
    "\n",
    "y_hat_avg['avg_forecast'] = train_varible.mean()\n",
    "\n",
    "rms_simple_av = sqrt(mean_squared_error(test_variable, y_hat_avg.avg_forecast))\n",
    "\n",
    "print('RMSE Simple Average = {}'.format(rms_simple_av))"
   ]
  },
  {
   "cell_type": "code",
   "execution_count": 16,
   "metadata": {},
   "outputs": [
    {
     "data": {
      "text/plain": [
       "'temp-plot.html'"
      ]
     },
     "execution_count": 16,
     "metadata": {},
     "output_type": "execute_result"
    }
   ],
   "source": [
    "trace1 = go.Scatter(x=train_index,\n",
    "                    y=train_varible,\n",
    "                  mode='lines',\n",
    "                  name='Train')\n",
    "\n",
    "trace2 = go.Scatter(x=test_index,\n",
    "                    y=test_variable,\n",
    "                  mode='lines',\n",
    "                  name='Test')\n",
    "\n",
    "trace3 = go.Scatter(x=y_hat.index,\n",
    "                    y=y_hat_avg['avg_forecast'],\n",
    "                  mode='lines',\n",
    "                  name='Simple Average')\n",
    "\n",
    "data = [trace1, trace2, trace3]\n",
    "\n",
    "layout = go.Layout(title=\"Train / Test - Simple Average\")\n",
    "\n",
    "fig = go.Figure(data=data, layout=layout)\n",
    "pyo.plot(fig)"
   ]
  },
  {
   "cell_type": "markdown",
   "metadata": {},
   "source": [
    "### Moving Average"
   ]
  },
  {
   "cell_type": "code",
   "execution_count": 17,
   "metadata": {},
   "outputs": [
    {
     "name": "stdout",
     "output_type": "stream",
     "text": [
      "RMSE Moving Average = 148820135.40555516\n"
     ]
    }
   ],
   "source": [
    "y_hat_avg = dff_test.copy()\n",
    "\n",
    "y_hat_avg['moving_avg_forecast'] = train_varible.rolling(24).mean().iloc[-1]\n",
    "\n",
    "rms_moving_av = sqrt(mean_squared_error(test_variable, y_hat_avg.moving_avg_forecast))\n",
    "\n",
    "print('RMSE Moving Average = {}'.format(rms_moving_av))"
   ]
  },
  {
   "cell_type": "code",
   "execution_count": 18,
   "metadata": {},
   "outputs": [
    {
     "data": {
      "text/plain": [
       "'temp-plot.html'"
      ]
     },
     "execution_count": 18,
     "metadata": {},
     "output_type": "execute_result"
    }
   ],
   "source": [
    "\n",
    "trace1 = go.Scatter(x=train_index,\n",
    "                    y=train_varible,\n",
    "                  mode='lines',\n",
    "                  name='Train')\n",
    "\n",
    "trace2 = go.Scatter(x=test_index,\n",
    "                    y=test_variable,\n",
    "                  mode='lines',\n",
    "                  name='Test')\n",
    "\n",
    "trace3 = go.Scatter(x=y_hat.index,\n",
    "                    y=y_hat_avg['moving_avg_forecast'],\n",
    "                  mode='lines',\n",
    "                  name='Moving Average')\n",
    "\n",
    "data = [trace1, trace2, trace3]\n",
    "\n",
    "layout = go.Layout(title=\"Train / Test - Search term\")\n",
    "\n",
    "fig = go.Figure(data=data, layout=layout)\n",
    "pyo.plot(fig)"
   ]
  },
  {
   "cell_type": "markdown",
   "metadata": {},
   "source": [
    "### Simple Exponential Smoothing"
   ]
  },
  {
   "cell_type": "code",
   "execution_count": 19,
   "metadata": {},
   "outputs": [
    {
     "name": "stdout",
     "output_type": "stream",
     "text": [
      "RMSE SES = 148318957.1847331\n"
     ]
    }
   ],
   "source": [
    "y_hat_avg = dff_test.copy()\n",
    "\n",
    "fit2 = SimpleExpSmoothing(np.asarray(train_varible)).fit(smoothing_level=0.6,optimized=False)\n",
    "\n",
    "y_hat_avg['SES'] = fit2.forecast(len(dff_test))\n",
    "\n",
    "rms_ses = sqrt(mean_squared_error(test_variable, y_hat_avg.SES))\n",
    "\n",
    "print('RMSE SES = {}'.format(rms_ses))"
   ]
  },
  {
   "cell_type": "code",
   "execution_count": 20,
   "metadata": {},
   "outputs": [
    {
     "data": {
      "text/plain": [
       "'temp-plot.html'"
      ]
     },
     "execution_count": 20,
     "metadata": {},
     "output_type": "execute_result"
    }
   ],
   "source": [
    "trace1 = go.Scatter(x=train_index,\n",
    "                    y=train_varible,\n",
    "                  mode='lines',\n",
    "                  name='Train')\n",
    "\n",
    "trace2 = go.Scatter(x=test_index,\n",
    "                    y=test_variable,\n",
    "                  mode='lines',\n",
    "                  name='Test')\n",
    "\n",
    "trace3 = go.Scatter(x=y_hat.index,\n",
    "                    y=y_hat_avg['SES'],\n",
    "                  mode='lines',\n",
    "                  name='SES')\n",
    "\n",
    "data = [trace1, trace2, trace3]\n",
    "\n",
    "layout = go.Layout(title=\"Train / Test - Simple Exponential Smoothing\")\n",
    "\n",
    "fig = go.Figure(data=data, layout=layout)\n",
    "pyo.plot(fig)"
   ]
  },
  {
   "cell_type": "markdown",
   "metadata": {},
   "source": [
    "### Holt’s Linear Trend method"
   ]
  },
  {
   "cell_type": "code",
   "execution_count": 21,
   "metadata": {},
   "outputs": [
    {
     "data": {
      "image/png": "[encoded data removed]",
      "text/plain": [
       "<Figure size 432x288 with 4 Axes>"
      ]
     },
     "metadata": {
      "needs_background": "light"
     },
     "output_type": "display_data"
    }
   ],
   "source": [
    "sm.tsa.seasonal_decompose(train_varible, freq=30).plot()\n",
    "result = sm.tsa.stattools.adfuller(train_varible)\n",
    "plt.show()"
   ]
  },
  {
   "cell_type": "code",
   "execution_count": 22,
   "metadata": {},
   "outputs": [
    {
     "name": "stdout",
     "output_type": "stream",
     "text": [
      "RMSE Holt Linear = 157076080.06208\n"
     ]
    }
   ],
   "source": [
    "y_hat_avg = test_df.copy()\n",
    "\n",
    "fit1 = Holt(np.asarray(train_varible)).fit(smoothing_level = 0.3,smoothing_slope = 0.1)\n",
    "\n",
    "y_hat_avg['Holt_linear'] = fit1.forecast(len(test_df))\n",
    "\n",
    "rms_holt_linear = sqrt(mean_squared_error(test_variable, y_hat_avg.Holt_linear))\n",
    "\n",
    "print('RMSE Holt Linear = {}'.format(rms_holt_linear))"
   ]
  },
  {
   "cell_type": "code",
   "execution_count": 23,
   "metadata": {},
   "outputs": [
    {
     "data": {
      "text/plain": [
       "'temp-plot.html'"
      ]
     },
     "execution_count": 23,
     "metadata": {},
     "output_type": "execute_result"
    }
   ],
   "source": [
    "trace1 = go.Scatter(x=train_index,\n",
    "                    y=train_varible,\n",
    "                  mode='lines',\n",
    "                  name='Train')\n",
    "\n",
    "trace2 = go.Scatter(x=test_index,\n",
    "                    y=test_variable,\n",
    "                  mode='lines',\n",
    "                  name='Test')\n",
    "\n",
    "trace3 = go.Scatter(x=y_hat.index,\n",
    "                    y=y_hat_avg['Holt_linear'],\n",
    "                  mode='lines',\n",
    "                  name='Holt_linear')\n",
    "\n",
    "data = [trace1, trace2, trace3]\n",
    "\n",
    "layout = go.Layout(title=\"Train / Test - Holt’s Linear Trend method\")\n",
    "\n",
    "fig = go.Figure(data=data, layout=layout)\n",
    "pyo.plot(fig)"
   ]
  },
  {
   "cell_type": "markdown",
   "metadata": {},
   "source": [
    "### Holt-Winters Method"
   ]
  },
  {
   "cell_type": "code",
   "execution_count": 24,
   "metadata": {},
   "outputs": [
    {
     "name": "stdout",
     "output_type": "stream",
     "text": [
      "RMSE Holt Winters = 302744270.5861495\n"
     ]
    },
    {
     "name": "stderr",
     "output_type": "stream",
     "text": [
      "C:\\Users\\Diego\\Anaconda3\\lib\\site-packages\\statsmodels\\tsa\\holtwinters.py:712: ConvergenceWarning:\n",
      "\n",
      "Optimization failed to converge. Check mle_retvals.\n",
      "\n"
     ]
    }
   ],
   "source": [
    "y_hat_avg = dff_test.copy()\n",
    "\n",
    "fit1 = ExponentialSmoothing(np.asarray(train_varible) ,seasonal_periods=7 ,\n",
    "                            trend='add', seasonal='add').fit()\n",
    "\n",
    "y_hat_avg['Holt_Winter'] = fit1.forecast(len(dff_test))\n",
    "\n",
    "rms_holt_winters = sqrt(mean_squared_error(test_variable, y_hat_avg.Holt_Winter))\n",
    "\n",
    "print('RMSE Holt Winters = {}'.format(rms_holt_winters))"
   ]
  },
  {
   "cell_type": "code",
   "execution_count": 25,
   "metadata": {},
   "outputs": [
    {
     "data": {
      "text/plain": [
       "'temp-plot.html'"
      ]
     },
     "execution_count": 25,
     "metadata": {},
     "output_type": "execute_result"
    }
   ],
   "source": [
    "trace1 = go.Scatter(x=train_index,\n",
    "                    y=train_varible,\n",
    "                  mode='lines',\n",
    "                  name='Train')\n",
    "\n",
    "trace2 = go.Scatter(x=test_index,\n",
    "                    y=test_variable,\n",
    "                  mode='lines',\n",
    "                  name='Test')\n",
    "\n",
    "trace3 = go.Scatter(x=y_hat.index,\n",
    "                    y=y_hat_avg['Holt_Winter'],\n",
    "                  mode='lines',\n",
    "                  name='Holt-Winters')\n",
    "\n",
    "data = [trace1, trace2, trace3]\n",
    "\n",
    "layout = go.Layout(title=\"Train / Test - Holt-Winters Method\")\n",
    "\n",
    "fig = go.Figure(data=data, layout=layout)\n",
    "pyo.plot(fig)"
   ]
  },
  {
   "cell_type": "markdown",
   "metadata": {},
   "source": [
    "### ARIMA"
   ]
  },
  {
   "cell_type": "code",
   "execution_count": 26,
   "metadata": {},
   "outputs": [],
   "source": [
    "### Not ready ###"
   ]
  },
  {
   "cell_type": "markdown",
   "metadata": {},
   "source": [
    "### Results"
   ]
  },
  {
   "cell_type": "code",
   "execution_count": 27,
   "metadata": {},
   "outputs": [
    {
     "data": {
      "text/html": [
       "<div>\n",
       "<style scoped>\n",
       "    .dataframe tbody tr th:only-of-type {\n",
       "        vertical-align: middle;\n",
       "    }\n",
       "\n",
       "    .dataframe tbody tr th {\n",
       "        vertical-align: top;\n",
       "    }\n",
       "\n",
       "    .dataframe thead th {\n",
       "        text-align: right;\n",
       "    }\n",
       "</style>\n",
       "<table border=\"1\" class=\"dataframe\">\n",
       "  <thead>\n",
       "    <tr style=\"text-align: right;\">\n",
       "      <th></th>\n",
       "      <th>Model</th>\n",
       "      <th>Result</th>\n",
       "    </tr>\n",
       "  </thead>\n",
       "  <tbody>\n",
       "    <tr>\n",
       "      <th>3</th>\n",
       "      <td>Simple Exponential Smoothing</td>\n",
       "      <td>148,318,957.18</td>\n",
       "    </tr>\n",
       "    <tr>\n",
       "      <th>0</th>\n",
       "      <td>Naive</td>\n",
       "      <td>148,409,994.58</td>\n",
       "    </tr>\n",
       "    <tr>\n",
       "      <th>2</th>\n",
       "      <td>Moving Average</td>\n",
       "      <td>148,820,135.41</td>\n",
       "    </tr>\n",
       "    <tr>\n",
       "      <th>4</th>\n",
       "      <td>Holt’s Linear</td>\n",
       "      <td>157,076,080.06</td>\n",
       "    </tr>\n",
       "    <tr>\n",
       "      <th>5</th>\n",
       "      <td>Holt Winters</td>\n",
       "      <td>302,744,270.59</td>\n",
       "    </tr>\n",
       "    <tr>\n",
       "      <th>1</th>\n",
       "      <td>Simple Average</td>\n",
       "      <td>801,063,756.32</td>\n",
       "    </tr>\n",
       "  </tbody>\n",
       "</table>\n",
       "</div>"
      ],
      "text/plain": [
       "                          Model         Result\n",
       "3  Simple Exponential Smoothing 148,318,957.18\n",
       "0                         Naive 148,409,994.58\n",
       "2                Moving Average 148,820,135.41\n",
       "4                 Holt’s Linear 157,076,080.06\n",
       "5                  Holt Winters 302,744,270.59\n",
       "1                Simple Average 801,063,756.32"
      ]
     },
     "execution_count": 27,
     "metadata": {},
     "output_type": "execute_result"
    }
   ],
   "source": [
    "data = [['Naive', rms_naive], \n",
    "        ['Simple Average', rms_simple_av],\n",
    "        ['Moving Average', rms_moving_av],\n",
    "        ['Simple Exponential Smoothing', rms_ses],\n",
    "        ['Holt’s Linear', rms_holt_linear],\n",
    "        ['Holt Winters', rms_holt_winters]]\n",
    "\n",
    "df_results = pd.DataFrame(data, columns=['Model', 'Result'])\n",
    "\n",
    "df_results.sort_values(by='Result')"
   ]
  },
  {
   "cell_type": "markdown",
   "metadata": {},
   "source": [
    "## Part 4: Manual modeling"
   ]
  },
  {
   "cell_type": "markdown",
   "metadata": {},
   "source": [
    "#### Preparing"
   ]
  },
  {
   "cell_type": "code",
   "execution_count": 28,
   "metadata": {},
   "outputs": [],
   "source": [
    "# Period\n",
    "\n",
    "Start_Date_ave = \"2019-1\"\n",
    "End_Date_ave = \"2019-12\""
   ]
  },
  {
   "cell_type": "markdown",
   "metadata": {},
   "source": [
    "#### Simple Moving Average"
   ]
  },
  {
   "cell_type": "code",
   "execution_count": 29,
   "metadata": {},
   "outputs": [],
   "source": [
    "df_SMA = df[Start_Date_ave:End_Date_ave]"
   ]
  },
  {
   "cell_type": "code",
   "execution_count": 30,
   "metadata": {},
   "outputs": [
    {
     "data": {
      "text/html": [
       "<div>\n",
       "<style scoped>\n",
       "    .dataframe tbody tr th:only-of-type {\n",
       "        vertical-align: middle;\n",
       "    }\n",
       "\n",
       "    .dataframe tbody tr th {\n",
       "        vertical-align: top;\n",
       "    }\n",
       "\n",
       "    .dataframe thead th {\n",
       "        text-align: right;\n",
       "    }\n",
       "</style>\n",
       "<table border=\"1\" class=\"dataframe\">\n",
       "  <thead>\n",
       "    <tr style=\"text-align: right;\">\n",
       "      <th></th>\n",
       "      <th>Model</th>\n",
       "      <th>Mean Squared Error</th>\n",
       "    </tr>\n",
       "  </thead>\n",
       "  <tbody>\n",
       "    <tr>\n",
       "      <th>0</th>\n",
       "      <td>SMA 20</td>\n",
       "      <td>0.01</td>\n",
       "    </tr>\n",
       "    <tr>\n",
       "      <th>1</th>\n",
       "      <td>SMA 50</td>\n",
       "      <td>0.02</td>\n",
       "    </tr>\n",
       "  </tbody>\n",
       "</table>\n",
       "</div>"
      ],
      "text/plain": [
       "    Model  Mean Squared Error\n",
       "0  SMA 20                0.01\n",
       "1  SMA 50                0.02"
      ]
     },
     "execution_count": 30,
     "metadata": {},
     "output_type": "execute_result"
    }
   ],
   "source": [
    "window1 = 20\n",
    "window2 = 50\n",
    "\n",
    "rolling_mean = df_SMA['DolarToday'].rolling(window=window1).mean()\n",
    "rolling_mean2 = df_SMA['DolarToday'].rolling(window=window2).mean()\n",
    "\n",
    "df_SMA['Rolling_mean'] = rolling_mean\n",
    "df_SMA['Rolling_mean2'] = rolling_mean2\n",
    "\n",
    "df_SMA = df_SMA.dropna()\n",
    "\n",
    "# Mean Square Error\n",
    "\n",
    "df_SMA_NORMALIZE = preprocessing.StandardScaler().fit(df_SMA).transform(df_SMA)\n",
    "\n",
    "df_SMA_MSE1 = sqrt(mean_squared_error(df_SMA_NORMALIZE[0], df_SMA_NORMALIZE[1]))\n",
    "df_SMA_MSE2 = sqrt(mean_squared_error(df_SMA_NORMALIZE[0], df_SMA_NORMALIZE[2]))\n",
    "\n",
    "data = [['SMA {}'.format(window1), df_SMA_MSE1],\n",
    "        ['SMA {}'.format(window2), df_SMA_MSE2]]\n",
    "                                   \n",
    "Table_SMA_MSE = pd.DataFrame(data, columns=['Model', 'Mean Squared Error'])\n",
    "\n",
    "Table_SMA_MSE.sort_values(by='Mean Squared Error')"
   ]
  },
  {
   "cell_type": "code",
   "execution_count": 31,
   "metadata": {},
   "outputs": [
    {
     "data": {
      "text/plain": [
       "'temp-plot.html'"
      ]
     },
     "execution_count": 31,
     "metadata": {},
     "output_type": "execute_result"
    }
   ],
   "source": [
    "trace1 = go.Scatter(x=df_SMA.index,\n",
    "                    y=df_SMA['DolarToday'],\n",
    "                  mode='lines',\n",
    "                  name='Dolar Today')\n",
    "\n",
    "trace2 = go.Scatter(x=df_SMA.index,\n",
    "                    y=rolling_mean,\n",
    "                  mode='lines',\n",
    "                  name='20 SMA')\n",
    "\n",
    "trace3 = go.Scatter(x=df_SMA.index,\n",
    "                    y=rolling_mean2,\n",
    "                  mode='lines',\n",
    "                  name='90 SMA')\n",
    "\n",
    "\n",
    "data = [trace1, trace2,trace3]\n",
    "\n",
    "layout = go.Layout(title=\"Simple Moving Average\")\n",
    "\n",
    "fig = go.Figure(data=data, layout=layout)\n",
    "pyo.plot(fig)"
   ]
  },
  {
   "cell_type": "markdown",
   "metadata": {},
   "source": [
    "#### EMA"
   ]
  },
  {
   "cell_type": "code",
   "execution_count": 32,
   "metadata": {},
   "outputs": [],
   "source": [
    "df_EMA = df[Start_Date_ave:End_Date_ave]"
   ]
  },
  {
   "cell_type": "code",
   "execution_count": 33,
   "metadata": {},
   "outputs": [
    {
     "data": {
      "text/html": [
       "<div>\n",
       "<style scoped>\n",
       "    .dataframe tbody tr th:only-of-type {\n",
       "        vertical-align: middle;\n",
       "    }\n",
       "\n",
       "    .dataframe tbody tr th {\n",
       "        vertical-align: top;\n",
       "    }\n",
       "\n",
       "    .dataframe thead th {\n",
       "        text-align: right;\n",
       "    }\n",
       "</style>\n",
       "<table border=\"1\" class=\"dataframe\">\n",
       "  <thead>\n",
       "    <tr style=\"text-align: right;\">\n",
       "      <th></th>\n",
       "      <th>Model</th>\n",
       "      <th>Mean Squared Error</th>\n",
       "    </tr>\n",
       "  </thead>\n",
       "  <tbody>\n",
       "    <tr>\n",
       "      <th>0</th>\n",
       "      <td>EMA 20</td>\n",
       "      <td>0.00</td>\n",
       "    </tr>\n",
       "    <tr>\n",
       "      <th>1</th>\n",
       "      <td>EMA 50</td>\n",
       "      <td>0.01</td>\n",
       "    </tr>\n",
       "  </tbody>\n",
       "</table>\n",
       "</div>"
      ],
      "text/plain": [
       "    Model  Mean Squared Error\n",
       "0  EMA 20                0.00\n",
       "1  EMA 50                0.01"
      ]
     },
     "execution_count": 33,
     "metadata": {},
     "output_type": "execute_result"
    }
   ],
   "source": [
    "span1 = 20\n",
    "span2 = 50\n",
    "\n",
    "exp1 = df_EMA['DolarToday'].ewm(span=span1, adjust=False).mean()\n",
    "exp2 = df_EMA['DolarToday'].ewm(span=span2, adjust=False).mean()\n",
    "\n",
    "df_EMA['exp1'] = exp1\n",
    "df_EMA['exp2'] = exp2\n",
    "\n",
    "df_EMA = df_EMA.dropna()\n",
    "\n",
    "# Mean Square Error\n",
    "\n",
    "df_EMA_NORMALIZE = preprocessing.StandardScaler().fit(df_EMA).transform(df_EMA)\n",
    "\n",
    "df_EMA_MSE1 = sqrt(mean_squared_error(df_EMA_NORMALIZE[0], df_EMA_NORMALIZE[1]))\n",
    "df_EMA_MSE2 = sqrt(mean_squared_error(df_EMA_NORMALIZE[0], df_EMA_NORMALIZE[2]))\n",
    "\n",
    "data = [['EMA {}'.format(span1), df_EMA_MSE1],\n",
    "        ['EMA {}'.format(span2), df_EMA_MSE2]]\n",
    "                                   \n",
    "Table_EMA_MSE = pd.DataFrame(data, columns=['Model', 'Mean Squared Error'])\n",
    "\n",
    "Table_EMA_MSE.sort_values(by='Mean Squared Error')"
   ]
  },
  {
   "cell_type": "code",
   "execution_count": 34,
   "metadata": {},
   "outputs": [
    {
     "data": {
      "text/plain": [
       "'temp-plot.html'"
      ]
     },
     "execution_count": 34,
     "metadata": {},
     "output_type": "execute_result"
    }
   ],
   "source": [
    "trace1 = go.Scatter(x=df_EMA.index,\n",
    "                    y=df_EMA['DolarToday'],\n",
    "                  mode='lines',\n",
    "                  name='Dolar Today')\n",
    "\n",
    "trace2 = go.Scatter(x=df_EMA.index,\n",
    "                    y=exp1,\n",
    "                  mode='lines',\n",
    "                  name='Exp {}'.format(span1))\n",
    "\n",
    "trace3 = go.Scatter(x=df_EMA.index,\n",
    "                    y=exp2,\n",
    "                  mode='lines',\n",
    "                  name='Exp {}'.format(span2))\n",
    "\n",
    "\n",
    "data = [trace1, trace2,trace3]\n",
    "\n",
    "layout = go.Layout(title=\"EMA\")\n",
    "\n",
    "fig = go.Figure(data=data, layout=layout)\n",
    "pyo.plot(fig)"
   ]
  },
  {
   "cell_type": "markdown",
   "metadata": {},
   "source": [
    "#### DEMA & TEMA"
   ]
  },
  {
   "cell_type": "code",
   "execution_count": 35,
   "metadata": {},
   "outputs": [],
   "source": [
    "df_DEMA = df[Start_Date_ave:End_Date_ave]"
   ]
  },
  {
   "cell_type": "code",
   "execution_count": 36,
   "metadata": {},
   "outputs": [],
   "source": [
    "span = 50"
   ]
  },
  {
   "cell_type": "code",
   "execution_count": 39,
   "metadata": {},
   "outputs": [],
   "source": [
    "df_DEMA['ema1'] = df_DEMA['DolarToday'].ewm(span=span, adjust=False).mean()\n",
    "\n",
    "df_DEMA['ema2'] = df_DEMA['ema1'].ewm(span=span, adjust=False).mean()\n",
    "\n",
    "df_DEMA['DEMA'] = (df_DEMA['ema1'] * 2) - df_DEMA['ema2']\n",
    "\n",
    "df_DEMA['TEMA'] = df_DEMA['ema2'].ewm(span=span, adjust=False).mean()"
   ]
  },
  {
   "cell_type": "code",
   "execution_count": 40,
   "metadata": {},
   "outputs": [
    {
     "data": {
      "text/html": [
       "<div>\n",
       "<style scoped>\n",
       "    .dataframe tbody tr th:only-of-type {\n",
       "        vertical-align: middle;\n",
       "    }\n",
       "\n",
       "    .dataframe tbody tr th {\n",
       "        vertical-align: top;\n",
       "    }\n",
       "\n",
       "    .dataframe thead th {\n",
       "        text-align: right;\n",
       "    }\n",
       "</style>\n",
       "<table border=\"1\" class=\"dataframe\">\n",
       "  <thead>\n",
       "    <tr style=\"text-align: right;\">\n",
       "      <th></th>\n",
       "      <th>DolarToday</th>\n",
       "      <th>ema1</th>\n",
       "      <th>ema2</th>\n",
       "      <th>DEMA</th>\n",
       "      <th>TEMA</th>\n",
       "    </tr>\n",
       "    <tr>\n",
       "      <th>Fecha</th>\n",
       "      <th></th>\n",
       "      <th></th>\n",
       "      <th></th>\n",
       "      <th></th>\n",
       "      <th></th>\n",
       "    </tr>\n",
       "  </thead>\n",
       "  <tbody>\n",
       "    <tr>\n",
       "      <th>2019-01-01</th>\n",
       "      <td>73,029,000.00</td>\n",
       "      <td>73,029,000.00</td>\n",
       "      <td>73,029,000.00</td>\n",
       "      <td>73,029,000.00</td>\n",
       "      <td>73,029,000.00</td>\n",
       "    </tr>\n",
       "    <tr>\n",
       "      <th>2019-01-02</th>\n",
       "      <td>78,128,000.00</td>\n",
       "      <td>73,228,960.78</td>\n",
       "      <td>73,036,841.60</td>\n",
       "      <td>73,421,079.97</td>\n",
       "      <td>73,029,307.51</td>\n",
       "    </tr>\n",
       "    <tr>\n",
       "      <th>2019-01-03</th>\n",
       "      <td>81,096,000.00</td>\n",
       "      <td>73,537,472.13</td>\n",
       "      <td>73,056,474.17</td>\n",
       "      <td>74,018,470.08</td>\n",
       "      <td>73,030,372.87</td>\n",
       "    </tr>\n",
       "    <tr>\n",
       "      <th>2019-01-04</th>\n",
       "      <td>84,124,000.00</td>\n",
       "      <td>73,952,630.08</td>\n",
       "      <td>73,091,617.54</td>\n",
       "      <td>74,813,642.63</td>\n",
       "      <td>73,032,774.62</td>\n",
       "    </tr>\n",
       "    <tr>\n",
       "      <th>2019-01-05</th>\n",
       "      <td>84,124,000.00</td>\n",
       "      <td>74,351,507.33</td>\n",
       "      <td>73,141,024.98</td>\n",
       "      <td>75,561,989.69</td>\n",
       "      <td>73,037,019.74</td>\n",
       "    </tr>\n",
       "  </tbody>\n",
       "</table>\n",
       "</div>"
      ],
      "text/plain": [
       "              DolarToday          ema1          ema2          DEMA  \\\n",
       "Fecha                                                                \n",
       "2019-01-01 73,029,000.00 73,029,000.00 73,029,000.00 73,029,000.00   \n",
       "2019-01-02 78,128,000.00 73,228,960.78 73,036,841.60 73,421,079.97   \n",
       "2019-01-03 81,096,000.00 73,537,472.13 73,056,474.17 74,018,470.08   \n",
       "2019-01-04 84,124,000.00 73,952,630.08 73,091,617.54 74,813,642.63   \n",
       "2019-01-05 84,124,000.00 74,351,507.33 73,141,024.98 75,561,989.69   \n",
       "\n",
       "                    TEMA  \n",
       "Fecha                     \n",
       "2019-01-01 73,029,000.00  \n",
       "2019-01-02 73,029,307.51  \n",
       "2019-01-03 73,030,372.87  \n",
       "2019-01-04 73,032,774.62  \n",
       "2019-01-05 73,037,019.74  "
      ]
     },
     "execution_count": 40,
     "metadata": {},
     "output_type": "execute_result"
    }
   ],
   "source": [
    "df_DEMA.head()"
   ]
  },
  {
   "cell_type": "code",
   "execution_count": 41,
   "metadata": {},
   "outputs": [
    {
     "data": {
      "text/html": [
       "<div>\n",
       "<style scoped>\n",
       "    .dataframe tbody tr th:only-of-type {\n",
       "        vertical-align: middle;\n",
       "    }\n",
       "\n",
       "    .dataframe tbody tr th {\n",
       "        vertical-align: top;\n",
       "    }\n",
       "\n",
       "    .dataframe thead th {\n",
       "        text-align: right;\n",
       "    }\n",
       "</style>\n",
       "<table border=\"1\" class=\"dataframe\">\n",
       "  <thead>\n",
       "    <tr style=\"text-align: right;\">\n",
       "      <th></th>\n",
       "      <th>Model</th>\n",
       "      <th>Mean Squared Error</th>\n",
       "    </tr>\n",
       "  </thead>\n",
       "  <tbody>\n",
       "    <tr>\n",
       "      <th>0</th>\n",
       "      <td>DEMA 50</td>\n",
       "      <td>0.01</td>\n",
       "    </tr>\n",
       "    <tr>\n",
       "      <th>1</th>\n",
       "      <td>TEMA 50</td>\n",
       "      <td>0.01</td>\n",
       "    </tr>\n",
       "  </tbody>\n",
       "</table>\n",
       "</div>"
      ],
      "text/plain": [
       "     Model  Mean Squared Error\n",
       "0  DEMA 50                0.01\n",
       "1  TEMA 50                0.01"
      ]
     },
     "execution_count": 41,
     "metadata": {},
     "output_type": "execute_result"
    }
   ],
   "source": [
    "# Mean Square Error\n",
    "\n",
    "df_DEMA_NORMALIZE = preprocessing.StandardScaler().fit(df_DEMA).transform(df_DEMA)\n",
    "\n",
    "df_DEMA_MSE1 = sqrt(mean_squared_error(df_DEMA_NORMALIZE[0], df_DEMA_NORMALIZE[3]))\n",
    "df_DEMA_MSE2 = sqrt(mean_squared_error(df_DEMA_NORMALIZE[0], df_DEMA_NORMALIZE[4]))\n",
    "\n",
    "data = [['DEMA {}'.format(span), df_DEMA_MSE1],\n",
    "        ['TEMA {}'.format(span), df_DEMA_MSE2]]\n",
    "                                   \n",
    "Table_DEMA_MSE = pd.DataFrame(data, columns=['Model', 'Mean Squared Error'])\n",
    "\n",
    "Table_DEMA_MSE.sort_values(by='Mean Squared Error')"
   ]
  },
  {
   "cell_type": "code",
   "execution_count": 43,
   "metadata": {},
   "outputs": [
    {
     "data": {
      "text/plain": [
       "'temp-plot.html'"
      ]
     },
     "execution_count": 43,
     "metadata": {},
     "output_type": "execute_result"
    }
   ],
   "source": [
    "trace1 = go.Scatter(x=df_DEMA.index,\n",
    "                    y=df_DEMA['DolarToday'],\n",
    "                  mode='lines',\n",
    "                  name='Dolar Today')\n",
    "\n",
    "trace2 = go.Scatter(x=df_DEMA.index,\n",
    "                    y=df_DEMA['ema1'],\n",
    "                  mode='lines',\n",
    "                  name='EMA span {}'.format(span))\n",
    "\n",
    "trace3 = go.Scatter(x=df_EMA.index,\n",
    "                    y=df_DEMA['DEMA'],\n",
    "                  mode='lines',\n",
    "                  name='DEMA span {}'.format(span))\n",
    "\n",
    "trace4 = go.Scatter(x=df_EMA.index,\n",
    "                    y=df_DEMA['TEMA'],\n",
    "                  mode='lines',\n",
    "                  name='TEMA')\n",
    "\n",
    "\n",
    "data = [trace1, trace2,trace3, trace4]\n",
    "\n",
    "layout = go.Layout(title=\"EMA / DEMA / TEMA -- span{}\".format(span))\n",
    "\n",
    "fig = go.Figure(data=data, layout=layout)\n",
    "pyo.plot(fig)"
   ]
  },
  {
   "cell_type": "markdown",
   "metadata": {},
   "source": [
    "### Means Square Error resume"
   ]
  },
  {
   "cell_type": "code",
   "execution_count": 44,
   "metadata": {
    "scrolled": true
   },
   "outputs": [
    {
     "data": {
      "text/html": [
       "<div>\n",
       "<style scoped>\n",
       "    .dataframe tbody tr th:only-of-type {\n",
       "        vertical-align: middle;\n",
       "    }\n",
       "\n",
       "    .dataframe tbody tr th {\n",
       "        vertical-align: top;\n",
       "    }\n",
       "\n",
       "    .dataframe thead th {\n",
       "        text-align: right;\n",
       "    }\n",
       "</style>\n",
       "<table border=\"1\" class=\"dataframe\">\n",
       "  <thead>\n",
       "    <tr style=\"text-align: right;\">\n",
       "      <th></th>\n",
       "      <th>Mean Squared Error</th>\n",
       "    </tr>\n",
       "    <tr>\n",
       "      <th>Model</th>\n",
       "      <th></th>\n",
       "    </tr>\n",
       "  </thead>\n",
       "  <tbody>\n",
       "    <tr>\n",
       "      <th>EMA 20</th>\n",
       "      <td>0.00</td>\n",
       "    </tr>\n",
       "    <tr>\n",
       "      <th>EMA 50</th>\n",
       "      <td>0.01</td>\n",
       "    </tr>\n",
       "    <tr>\n",
       "      <th>DEMA 50</th>\n",
       "      <td>0.01</td>\n",
       "    </tr>\n",
       "    <tr>\n",
       "      <th>TEMA 50</th>\n",
       "      <td>0.01</td>\n",
       "    </tr>\n",
       "    <tr>\n",
       "      <th>SMA 20</th>\n",
       "      <td>0.01</td>\n",
       "    </tr>\n",
       "    <tr>\n",
       "      <th>SMA 50</th>\n",
       "      <td>0.02</td>\n",
       "    </tr>\n",
       "  </tbody>\n",
       "</table>\n",
       "</div>"
      ],
      "text/plain": [
       "         Mean Squared Error\n",
       "Model                      \n",
       "EMA 20                 0.00\n",
       "EMA 50                 0.01\n",
       "DEMA 50                0.01\n",
       "TEMA 50                0.01\n",
       "SMA 20                 0.01\n",
       "SMA 50                 0.02"
      ]
     },
     "execution_count": 44,
     "metadata": {},
     "output_type": "execute_result"
    }
   ],
   "source": [
    "Table_MSE = pd.concat([Table_SMA_MSE, Table_EMA_MSE, Table_DEMA_MSE])\n",
    "Table_MSE = Table_MSE.set_index('Model')\n",
    "Table_MSE.sort_values(by='Mean Squared Error')"
   ]
  },
  {
   "cell_type": "code",
   "execution_count": 45,
   "metadata": {},
   "outputs": [
    {
     "data": {
      "text/html": [
       "<div>\n",
       "<style scoped>\n",
       "    .dataframe tbody tr th:only-of-type {\n",
       "        vertical-align: middle;\n",
       "    }\n",
       "\n",
       "    .dataframe tbody tr th {\n",
       "        vertical-align: top;\n",
       "    }\n",
       "\n",
       "    .dataframe thead th {\n",
       "        text-align: right;\n",
       "    }\n",
       "</style>\n",
       "<table border=\"1\" class=\"dataframe\">\n",
       "  <thead>\n",
       "    <tr style=\"text-align: right;\">\n",
       "      <th></th>\n",
       "      <th>Mean Squared Error</th>\n",
       "    </tr>\n",
       "    <tr>\n",
       "      <th>Model</th>\n",
       "      <th></th>\n",
       "    </tr>\n",
       "  </thead>\n",
       "  <tbody>\n",
       "    <tr>\n",
       "      <th>Naive</th>\n",
       "      <td>0.00</td>\n",
       "    </tr>\n",
       "    <tr>\n",
       "      <th>Simple Average</th>\n",
       "      <td>1.00</td>\n",
       "    </tr>\n",
       "    <tr>\n",
       "      <th>Moving Average</th>\n",
       "      <td>0.00</td>\n",
       "    </tr>\n",
       "    <tr>\n",
       "      <th>Simple Exponential Smoothing</th>\n",
       "      <td>0.00</td>\n",
       "    </tr>\n",
       "    <tr>\n",
       "      <th>Holt’s Linear</th>\n",
       "      <td>0.01</td>\n",
       "    </tr>\n",
       "    <tr>\n",
       "      <th>Holt Winters</th>\n",
       "      <td>0.24</td>\n",
       "    </tr>\n",
       "  </tbody>\n",
       "</table>\n",
       "</div>"
      ],
      "text/plain": [
       "                              Mean Squared Error\n",
       "Model                                           \n",
       "Naive                                       0.00\n",
       "Simple Average                              1.00\n",
       "Moving Average                              0.00\n",
       "Simple Exponential Smoothing                0.00\n",
       "Holt’s Linear                               0.01\n",
       "Holt Winters                                0.24"
      ]
     },
     "execution_count": 45,
     "metadata": {},
     "output_type": "execute_result"
    }
   ],
   "source": [
    "Table_results = df_results\n",
    "Table_results = df_results.set_index('Model')\n",
    "Table_results['Normalized'] = (Table_results - Table_results.min()) / (Table_results.max() - Table_results.min())\n",
    "Table_results = Table_results.drop(['Result'], axis=1)\n",
    "Table_results.rename(columns={'Normalized':'Mean Squared Error'}, inplace=True)\n",
    "Table_results"
   ]
  },
  {
   "cell_type": "code",
   "execution_count": 46,
   "metadata": {},
   "outputs": [
    {
     "data": {
      "text/html": [
       "<div>\n",
       "<style scoped>\n",
       "    .dataframe tbody tr th:only-of-type {\n",
       "        vertical-align: middle;\n",
       "    }\n",
       "\n",
       "    .dataframe tbody tr th {\n",
       "        vertical-align: top;\n",
       "    }\n",
       "\n",
       "    .dataframe thead th {\n",
       "        text-align: right;\n",
       "    }\n",
       "</style>\n",
       "<table border=\"1\" class=\"dataframe\">\n",
       "  <thead>\n",
       "    <tr style=\"text-align: right;\">\n",
       "      <th></th>\n",
       "      <th>Mean Squared Error</th>\n",
       "    </tr>\n",
       "    <tr>\n",
       "      <th>Model</th>\n",
       "      <th></th>\n",
       "    </tr>\n",
       "  </thead>\n",
       "  <tbody>\n",
       "    <tr>\n",
       "      <th>Simple Exponential Smoothing</th>\n",
       "      <td>0.00</td>\n",
       "    </tr>\n",
       "    <tr>\n",
       "      <th>Naive</th>\n",
       "      <td>0.00</td>\n",
       "    </tr>\n",
       "    <tr>\n",
       "      <th>Moving Average</th>\n",
       "      <td>0.00</td>\n",
       "    </tr>\n",
       "    <tr>\n",
       "      <th>EMA 20</th>\n",
       "      <td>0.00</td>\n",
       "    </tr>\n",
       "    <tr>\n",
       "      <th>EMA 50</th>\n",
       "      <td>0.01</td>\n",
       "    </tr>\n",
       "    <tr>\n",
       "      <th>DEMA 50</th>\n",
       "      <td>0.01</td>\n",
       "    </tr>\n",
       "    <tr>\n",
       "      <th>TEMA 50</th>\n",
       "      <td>0.01</td>\n",
       "    </tr>\n",
       "    <tr>\n",
       "      <th>Holt’s Linear</th>\n",
       "      <td>0.01</td>\n",
       "    </tr>\n",
       "    <tr>\n",
       "      <th>SMA 20</th>\n",
       "      <td>0.01</td>\n",
       "    </tr>\n",
       "    <tr>\n",
       "      <th>SMA 50</th>\n",
       "      <td>0.02</td>\n",
       "    </tr>\n",
       "    <tr>\n",
       "      <th>Holt Winters</th>\n",
       "      <td>0.24</td>\n",
       "    </tr>\n",
       "    <tr>\n",
       "      <th>Simple Average</th>\n",
       "      <td>1.00</td>\n",
       "    </tr>\n",
       "  </tbody>\n",
       "</table>\n",
       "</div>"
      ],
      "text/plain": [
       "                              Mean Squared Error\n",
       "Model                                           \n",
       "Simple Exponential Smoothing                0.00\n",
       "Naive                                       0.00\n",
       "Moving Average                              0.00\n",
       "EMA 20                                      0.00\n",
       "EMA 50                                      0.01\n",
       "DEMA 50                                     0.01\n",
       "TEMA 50                                     0.01\n",
       "Holt’s Linear                               0.01\n",
       "SMA 20                                      0.01\n",
       "SMA 50                                      0.02\n",
       "Holt Winters                                0.24\n",
       "Simple Average                              1.00"
      ]
     },
     "execution_count": 46,
     "metadata": {},
     "output_type": "execute_result"
    }
   ],
   "source": [
    "Table_MSE = pd.concat([Table_MSE, Table_results])\n",
    "\n",
    "Table_MSE.sort_values(by='Mean Squared Error')"
   ]
  },
  {
   "cell_type": "markdown",
   "metadata": {},
   "source": [
    "## Part 5: Forecast"
   ]
  },
  {
   "cell_type": "markdown",
   "metadata": {},
   "source": [
    "#### Simple Exponential Smoothing"
   ]
  },
  {
   "cell_type": "code",
   "execution_count": 76,
   "metadata": {},
   "outputs": [
    {
     "data": {
      "text/html": [
       "<div>\n",
       "<style scoped>\n",
       "    .dataframe tbody tr th:only-of-type {\n",
       "        vertical-align: middle;\n",
       "    }\n",
       "\n",
       "    .dataframe tbody tr th {\n",
       "        vertical-align: top;\n",
       "    }\n",
       "\n",
       "    .dataframe thead th {\n",
       "        text-align: right;\n",
       "    }\n",
       "</style>\n",
       "<table border=\"1\" class=\"dataframe\">\n",
       "  <thead>\n",
       "    <tr style=\"text-align: right;\">\n",
       "      <th></th>\n",
       "      <th>Forecast_value</th>\n",
       "    </tr>\n",
       "  </thead>\n",
       "  <tbody>\n",
       "    <tr>\n",
       "      <th>0</th>\n",
       "      <td>19,962,570.29</td>\n",
       "    </tr>\n",
       "    <tr>\n",
       "      <th>1</th>\n",
       "      <td>19,962,570.29</td>\n",
       "    </tr>\n",
       "    <tr>\n",
       "      <th>2</th>\n",
       "      <td>19,962,570.29</td>\n",
       "    </tr>\n",
       "    <tr>\n",
       "      <th>3</th>\n",
       "      <td>19,962,570.29</td>\n",
       "    </tr>\n",
       "    <tr>\n",
       "      <th>4</th>\n",
       "      <td>19,962,570.29</td>\n",
       "    </tr>\n",
       "    <tr>\n",
       "      <th>5</th>\n",
       "      <td>19,962,570.29</td>\n",
       "    </tr>\n",
       "    <tr>\n",
       "      <th>6</th>\n",
       "      <td>19,962,570.29</td>\n",
       "    </tr>\n",
       "  </tbody>\n",
       "</table>\n",
       "</div>"
      ],
      "text/plain": [
       "   Forecast_value\n",
       "0   19,962,570.29\n",
       "1   19,962,570.29\n",
       "2   19,962,570.29\n",
       "3   19,962,570.29\n",
       "4   19,962,570.29\n",
       "5   19,962,570.29\n",
       "6   19,962,570.29"
      ]
     },
     "execution_count": 76,
     "metadata": {},
     "output_type": "execute_result"
    }
   ],
   "source": [
    "np.set_printoptions(precision=3)\n",
    "\n",
    "fit_forecast_SEM = SimpleExpSmoothing(np.asarray(df['DolarToday'])).fit(smoothing_level=0.6,optimized=False)\n",
    "\n",
    "y_hat_SEM = fit_forecast_SEM.forecast(steps=7)\n",
    "\n",
    "forecast_table_SEM = pd.DataFrame((y_hat_SEM / 100), columns=['Forecast_value'])\n",
    "\n",
    "forecast_table_SEM"
   ]
  },
  {
   "cell_type": "code",
   "execution_count": null,
   "metadata": {},
   "outputs": [],
   "source": []
  },
  {
   "cell_type": "code",
   "execution_count": null,
   "metadata": {},
   "outputs": [],
   "source": []
  }
 ],
 "metadata": {
  "kernelspec": {
   "display_name": "Python 3",
   "language": "python",
   "name": "python3"
  },
  "language_info": {
   "codemirror_mode": {
    "name": "ipython",
    "version": 3
   },
   "file_extension": ".py",
   "mimetype": "text/x-python",
   "name": "python",
   "nbconvert_exporter": "python",
   "pygments_lexer": "ipython3",
   "version": "3.7.3"
  }
 },
 "nbformat": 4,
 "nbformat_minor": 2
}
